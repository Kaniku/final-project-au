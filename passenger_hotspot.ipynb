{
  "nbformat": 4,
  "nbformat_minor": 0,
  "metadata": {
    "colab": {
      "name": "passenger_hotspot",
      "provenance": [],
      "collapsed_sections": []
    },
    "kernelspec": {
      "name": "python3",
      "display_name": "Python 3"
    }
  },
  "cells": [
    {
      "cell_type": "markdown",
      "metadata": {
        "id": "7owVJa2u5Dsl",
        "colab_type": "text"
      },
      "source": [
        "#Read Train Data"
      ]
    },
    {
      "cell_type": "code",
      "metadata": {
        "id": "QIhLaWdC4ZTG",
        "colab_type": "code",
        "colab": {}
      },
      "source": [
        "import numpy as np\n",
        "import pandas as pd\n",
        "import matplotlib.pyplot as plt\n",
        "%matplotlib inline"
      ],
      "execution_count": 1,
      "outputs": []
    },
    {
      "cell_type": "code",
      "metadata": {
        "id": "HHYl90Ni6JBg",
        "colab_type": "code",
        "colab": {
          "base_uri": "https://localhost:8080/",
          "height": 35
        },
        "outputId": "58332e0f-8695-4786-e851-3ed4a4b685d1"
      },
      "source": [
        "df_train = pd.read_csv('train_hire_stats.csv')\n",
        "df_train.shape"
      ],
      "execution_count": 2,
      "outputs": [
        {
          "output_type": "execute_result",
          "data": {
            "text/plain": [
              "(219600, 4)"
            ]
          },
          "metadata": {
            "tags": []
          },
          "execution_count": 2
        }
      ]
    },
    {
      "cell_type": "code",
      "metadata": {
        "id": "PugUE-2x6RIx",
        "colab_type": "code",
        "colab": {
          "base_uri": "https://localhost:8080/",
          "height": 206
        },
        "outputId": "cdd45a51-5f4a-423d-c235-e63477a82ca1"
      },
      "source": [
        "df_train.head()"
      ],
      "execution_count": 3,
      "outputs": [
        {
          "output_type": "execute_result",
          "data": {
            "text/html": [
              "<div>\n",
              "<style scoped>\n",
              "    .dataframe tbody tr th:only-of-type {\n",
              "        vertical-align: middle;\n",
              "    }\n",
              "\n",
              "    .dataframe tbody tr th {\n",
              "        vertical-align: top;\n",
              "    }\n",
              "\n",
              "    .dataframe thead th {\n",
              "        text-align: right;\n",
              "    }\n",
              "</style>\n",
              "<table border=\"1\" class=\"dataframe\">\n",
              "  <thead>\n",
              "    <tr style=\"text-align: right;\">\n",
              "      <th></th>\n",
              "      <th>Zone_ID</th>\n",
              "      <th>Date</th>\n",
              "      <th>Hour_slot</th>\n",
              "      <th>Hire_count</th>\n",
              "    </tr>\n",
              "  </thead>\n",
              "  <tbody>\n",
              "    <tr>\n",
              "      <th>0</th>\n",
              "      <td>1</td>\n",
              "      <td>2016-02-01</td>\n",
              "      <td>0</td>\n",
              "      <td>0</td>\n",
              "    </tr>\n",
              "    <tr>\n",
              "      <th>1</th>\n",
              "      <td>1</td>\n",
              "      <td>2016-02-01</td>\n",
              "      <td>1</td>\n",
              "      <td>0</td>\n",
              "    </tr>\n",
              "    <tr>\n",
              "      <th>2</th>\n",
              "      <td>1</td>\n",
              "      <td>2016-02-01</td>\n",
              "      <td>2</td>\n",
              "      <td>0</td>\n",
              "    </tr>\n",
              "    <tr>\n",
              "      <th>3</th>\n",
              "      <td>1</td>\n",
              "      <td>2016-02-01</td>\n",
              "      <td>3</td>\n",
              "      <td>0</td>\n",
              "    </tr>\n",
              "    <tr>\n",
              "      <th>4</th>\n",
              "      <td>1</td>\n",
              "      <td>2016-02-01</td>\n",
              "      <td>4</td>\n",
              "      <td>0</td>\n",
              "    </tr>\n",
              "  </tbody>\n",
              "</table>\n",
              "</div>"
            ],
            "text/plain": [
              "   Zone_ID        Date  Hour_slot  Hire_count\n",
              "0        1  2016-02-01          0           0\n",
              "1        1  2016-02-01          1           0\n",
              "2        1  2016-02-01          2           0\n",
              "3        1  2016-02-01          3           0\n",
              "4        1  2016-02-01          4           0"
            ]
          },
          "metadata": {
            "tags": []
          },
          "execution_count": 3
        }
      ]
    },
    {
      "cell_type": "code",
      "metadata": {
        "id": "_ICz0zX06oft",
        "colab_type": "code",
        "colab": {
          "base_uri": "https://localhost:8080/",
          "height": 337
        },
        "outputId": "575293a9-7a8b-45fb-e305-41681434f705"
      },
      "source": [
        "import matplotlib.pyplot as plt\n",
        "import seaborn as sns\n",
        "\n",
        "#Enter variable\n",
        "#Box Plot for Zone_ID column\n",
        "plt.figure() #make new figure\n",
        "sns.boxplot(x=df_train['Zone_ID'])\n",
        "plt.show()"
      ],
      "execution_count": 4,
      "outputs": [
        {
          "output_type": "stream",
          "text": [
            "/usr/local/lib/python3.6/dist-packages/statsmodels/tools/_testing.py:19: FutureWarning: pandas.util.testing is deprecated. Use the functions in the public API at pandas.testing instead.\n",
            "  import pandas.util.testing as tm\n"
          ],
          "name": "stderr"
        },
        {
          "output_type": "display_data",
          "data": {
            "image/png": "[encoded data removed]",
            "text/plain": [
              "<Figure size 432x288 with 1 Axes>"
            ]
          },
          "metadata": {
            "tags": [],
            "needs_background": "light"
          }
        }
      ]
    },
    {
      "cell_type": "code",
      "metadata": {
        "id": "odau8prOARZ8",
        "colab_type": "code",
        "colab": {
          "base_uri": "https://localhost:8080/",
          "height": 280
        },
        "outputId": "1ce8e2fd-f1ae-47b7-a211-36b739c2b73e"
      },
      "source": [
        "import matplotlib.pyplot as plt\n",
        "import seaborn as sns\n",
        "\n",
        "#Enter variable\n",
        "#Box Plot for Hour_slot column\n",
        "plt.figure() #make new figure\n",
        "sns.boxplot(x=df_train['Hour_slot'])\n",
        "plt.show()\n"
      ],
      "execution_count": 5,
      "outputs": [
        {
          "output_type": "display_data",
          "data": {
            "image/png": "[encoded data removed]",
            "text/plain": [
              "<Figure size 432x288 with 1 Axes>"
            ]
          },
          "metadata": {
            "tags": [],
            "needs_background": "light"
          }
        }
      ]
    },
    {
      "cell_type": "code",
      "metadata": {
        "id": "UVfHuGHuAaDc",
        "colab_type": "code",
        "colab": {
          "base_uri": "https://localhost:8080/",
          "height": 280
        },
        "outputId": "0753e2eb-41f6-4b30-ea3b-d177704b783e"
      },
      "source": [
        "import matplotlib.pyplot as plt\n",
        "import seaborn as sns\n",
        "\n",
        "#Enter variable\n",
        "#Box Plot for Hire_count column\n",
        "plt.figure() #make new figure\n",
        "sns.boxplot(x=df_train['Hire_count'])\n",
        "plt.show()\n"
      ],
      "execution_count": 6,
      "outputs": [
        {
          "output_type": "display_data",
          "data": {
            "image/png": "[encoded data removed]",
            "text/plain": [
              "<Figure size 432x288 with 1 Axes>"
            ]
          },
          "metadata": {
            "tags": [],
            "needs_background": "light"
          }
        }
      ]
    },
    {
      "cell_type": "code",
      "metadata": {
        "id": "ZY3Pk3NkA2Aq",
        "colab_type": "code",
        "colab": {}
      },
      "source": [
        "#Handling Outlier menggunakan IQR\n",
        "#Fungsi quantile untuk melihat nilai quantile tertentu\n",
        "#Q1=(df_train[['Hire_count']]).quantile(0.25)\n",
        "#Q3=(df_train[['Hire_count']]).quantile(0.9)\n",
        "\n",
        "#IQR=Q3-Q1\n",
        "#maximum= Q3+(1.5*IQR)\n",
        "#print('Nilai Maximum dari masing-masing Variabel adalah:\\n', maximum)\n",
        "#minimum=Q1-(1.5*IQR)\n",
        "#print('Nilai Minimum dari masing-masing Variabel adalah:\\n', minimum)\n",
        "\n",
        "#more_than=(df_train>maximum)\n",
        "#lower_than=(df_train<minimum)\n",
        "#Gunakan mask untuk mereplace nilai ketika kondisi nya adalah True\n",
        "#Jadi ketika ada nilai yang melebihi maximum, nilainya akan direplace oleh nilai maximum yang sudah ditentukan\n",
        "#df_train=df_train.mask(more_than, maximum,axis=1)\n",
        "#df_train=df_train.mask(lower_than, minimum,axis=1)\n",
        "\n",
        "#print('Persebaran data setelah melakukan handling pada Outlier:', df_train[['Hire_count']].describe())"
      ],
      "execution_count": 7,
      "outputs": []
    },
    {
      "cell_type": "code",
      "metadata": {
        "id": "nW9X1FPYCtCg",
        "colab_type": "code",
        "colab": {}
      },
      "source": [
        "#import matplotlib.pyplot as plt\n",
        "#import seaborn as sns\n",
        "\n",
        "#Memasukkan variable\n",
        "#Box Plot untuk kolom tenure\n",
        "#plt.figure() #untuk membuat figure baru\n",
        "#sns.boxplot(x=df_train['Hire_count'])\n",
        "#plt.show()\n"
      ],
      "execution_count": 8,
      "outputs": []
    },
    {
      "cell_type": "markdown",
      "metadata": {
        "id": "TnqBvIY_6bmq",
        "colab_type": "text"
      },
      "source": [
        "#Converts date string"
      ]
    },
    {
      "cell_type": "code",
      "metadata": {
        "id": "_LFYnQC46e_5",
        "colab_type": "code",
        "colab": {}
      },
      "source": [
        "#Declare weekday & workday\n",
        "isworkday = np.ones((len(df_train),), dtype=int)\n",
        "weekday = np.ones((len(df_train),), dtype=int)"
      ],
      "execution_count": 9,
      "outputs": []
    },
    {
      "cell_type": "code",
      "metadata": {
        "id": "ufraz4eb6hIL",
        "colab_type": "code",
        "colab": {}
      },
      "source": [
        "from datetime import datetime\n",
        "for index, row in df_train.iterrows():\n",
        "    dd=datetime.strptime(row['Date'], \"%Y-%m-%d\")\n",
        "    weekday[index]= dd.weekday() \n",
        "    if weekday[index] >=5 :\n",
        "        isworkday[index] = 0"
      ],
      "execution_count": 10,
      "outputs": []
    },
    {
      "cell_type": "markdown",
      "metadata": {
        "id": "tOvvEL7KC517",
        "colab_type": "text"
      },
      "source": [
        "#Build a new dataframe from the training data"
      ]
    },
    {
      "cell_type": "code",
      "metadata": {
        "id": "wKqUXc0bC_w8",
        "colab_type": "code",
        "colab": {
          "base_uri": "https://localhost:8080/",
          "height": 206
        },
        "outputId": "5b65092f-c897-4e37-bd3e-2a6e552f5909"
      },
      "source": [
        "#Build a new dataframe from the training data\n",
        "RawX = pd.DataFrame(df_train[[\"Zone_ID\", \"Hour_slot\"]])\n",
        "RawX['isworkday'] = isworkday\n",
        "RawX['weekday'] = weekday\n",
        "RawX.head()"
      ],
      "execution_count": 11,
      "outputs": [
        {
          "output_type": "execute_result",
          "data": {
            "text/html": [
              "<div>\n",
              "<style scoped>\n",
              "    .dataframe tbody tr th:only-of-type {\n",
              "        vertical-align: middle;\n",
              "    }\n",
              "\n",
              "    .dataframe tbody tr th {\n",
              "        vertical-align: top;\n",
              "    }\n",
              "\n",
              "    .dataframe thead th {\n",
              "        text-align: right;\n",
              "    }\n",
              "</style>\n",
              "<table border=\"1\" class=\"dataframe\">\n",
              "  <thead>\n",
              "    <tr style=\"text-align: right;\">\n",
              "      <th></th>\n",
              "      <th>Zone_ID</th>\n",
              "      <th>Hour_slot</th>\n",
              "      <th>isworkday</th>\n",
              "      <th>weekday</th>\n",
              "    </tr>\n",
              "  </thead>\n",
              "  <tbody>\n",
              "    <tr>\n",
              "      <th>0</th>\n",
              "      <td>1</td>\n",
              "      <td>0</td>\n",
              "      <td>1</td>\n",
              "      <td>0</td>\n",
              "    </tr>\n",
              "    <tr>\n",
              "      <th>1</th>\n",
              "      <td>1</td>\n",
              "      <td>1</td>\n",
              "      <td>1</td>\n",
              "      <td>0</td>\n",
              "    </tr>\n",
              "    <tr>\n",
              "      <th>2</th>\n",
              "      <td>1</td>\n",
              "      <td>2</td>\n",
              "      <td>1</td>\n",
              "      <td>0</td>\n",
              "    </tr>\n",
              "    <tr>\n",
              "      <th>3</th>\n",
              "      <td>1</td>\n",
              "      <td>3</td>\n",
              "      <td>1</td>\n",
              "      <td>0</td>\n",
              "    </tr>\n",
              "    <tr>\n",
              "      <th>4</th>\n",
              "      <td>1</td>\n",
              "      <td>4</td>\n",
              "      <td>1</td>\n",
              "      <td>0</td>\n",
              "    </tr>\n",
              "  </tbody>\n",
              "</table>\n",
              "</div>"
            ],
            "text/plain": [
              "   Zone_ID  Hour_slot  isworkday  weekday\n",
              "0        1          0          1        0\n",
              "1        1          1          1        0\n",
              "2        1          2          1        0\n",
              "3        1          3          1        0\n",
              "4        1          4          1        0"
            ]
          },
          "metadata": {
            "tags": []
          },
          "execution_count": 11
        }
      ]
    },
    {
      "cell_type": "markdown",
      "metadata": {
        "id": "xZHE9OrDDEzh",
        "colab_type": "text"
      },
      "source": [
        "#One-Hot-Encoder"
      ]
    },
    {
      "cell_type": "code",
      "metadata": {
        "id": "cK_K-p7ZDIET",
        "colab_type": "code",
        "colab": {}
      },
      "source": [
        "from sklearn.preprocessing import OneHotEncoder\n",
        "enc = OneHotEncoder(handle_unknown='ignore')"
      ],
      "execution_count": 12,
      "outputs": []
    },
    {
      "cell_type": "markdown",
      "metadata": {
        "id": "l6_gmnycDLGz",
        "colab_type": "text"
      },
      "source": [
        "#fit_transform"
      ]
    },
    {
      "cell_type": "code",
      "metadata": {
        "id": "fjGmzT_xDN42",
        "colab_type": "code",
        "colab": {
          "base_uri": "https://localhost:8080/",
          "height": 127
        },
        "outputId": "8e73ec77-1c40-4a8d-9f72-947d3209735c"
      },
      "source": [
        "enc.fit_transform(RawX)\n",
        "enc.categories_"
      ],
      "execution_count": 13,
      "outputs": [
        {
          "output_type": "execute_result",
          "data": {
            "text/plain": [
              "[array([ 1,  2,  3,  4,  5,  6,  7,  8,  9, 10, 11, 12, 13, 14, 15, 16, 17,\n",
              "        18, 19, 20, 21, 22, 23, 24, 25]),\n",
              " array([ 0,  1,  2,  3,  4,  5,  6,  7,  8,  9, 10, 11, 12, 13, 14, 15, 16,\n",
              "        17, 18, 19, 20, 21, 22, 23]),\n",
              " array([0, 1]),\n",
              " array([0, 1, 2, 3, 4, 5, 6])]"
            ]
          },
          "metadata": {
            "tags": []
          },
          "execution_count": 13
        }
      ]
    },
    {
      "cell_type": "markdown",
      "metadata": {
        "id": "5SCSDlS3DQFW",
        "colab_type": "text"
      },
      "source": [
        "#transform"
      ]
    },
    {
      "cell_type": "code",
      "metadata": {
        "id": "6-0bMfZHDSjh",
        "colab_type": "code",
        "colab": {
          "base_uri": "https://localhost:8080/",
          "height": 35
        },
        "outputId": "20a08b73-8ccf-40fb-b448-84df35fcef8c"
      },
      "source": [
        "#Transform data into one hot vector\n",
        "X = enc.transform(RawX).toarray()\n",
        "X.shape"
      ],
      "execution_count": 14,
      "outputs": [
        {
          "output_type": "execute_result",
          "data": {
            "text/plain": [
              "(219600, 58)"
            ]
          },
          "metadata": {
            "tags": []
          },
          "execution_count": 14
        }
      ]
    },
    {
      "cell_type": "code",
      "metadata": {
        "id": "dotxm65yDVzi",
        "colab_type": "code",
        "colab": {
          "base_uri": "https://localhost:8080/",
          "height": 237
        },
        "outputId": "6cc4264b-ab68-4f0f-9773-99ab28aefe2f"
      },
      "source": [
        "#See the cooked input data\n",
        "X[0:3, :]"
      ],
      "execution_count": 15,
      "outputs": [
        {
          "output_type": "execute_result",
          "data": {
            "text/plain": [
              "array([[1., 0., 0., 0., 0., 0., 0., 0., 0., 0., 0., 0., 0., 0., 0., 0.,\n",
              "        0., 0., 0., 0., 0., 0., 0., 0., 0., 1., 0., 0., 0., 0., 0., 0.,\n",
              "        0., 0., 0., 0., 0., 0., 0., 0., 0., 0., 0., 0., 0., 0., 0., 0.,\n",
              "        0., 0., 1., 1., 0., 0., 0., 0., 0., 0.],\n",
              "       [1., 0., 0., 0., 0., 0., 0., 0., 0., 0., 0., 0., 0., 0., 0., 0.,\n",
              "        0., 0., 0., 0., 0., 0., 0., 0., 0., 0., 1., 0., 0., 0., 0., 0.,\n",
              "        0., 0., 0., 0., 0., 0., 0., 0., 0., 0., 0., 0., 0., 0., 0., 0.,\n",
              "        0., 0., 1., 1., 0., 0., 0., 0., 0., 0.],\n",
              "       [1., 0., 0., 0., 0., 0., 0., 0., 0., 0., 0., 0., 0., 0., 0., 0.,\n",
              "        0., 0., 0., 0., 0., 0., 0., 0., 0., 0., 0., 1., 0., 0., 0., 0.,\n",
              "        0., 0., 0., 0., 0., 0., 0., 0., 0., 0., 0., 0., 0., 0., 0., 0.,\n",
              "        0., 0., 1., 1., 0., 0., 0., 0., 0., 0.]])"
            ]
          },
          "metadata": {
            "tags": []
          },
          "execution_count": 15
        }
      ]
    },
    {
      "cell_type": "markdown",
      "metadata": {
        "id": "dH3IYKTaDXAn",
        "colab_type": "text"
      },
      "source": [
        "#Training a DNN model for prediction\n",
        "\n",
        "#Resize y into (0,1)"
      ]
    },
    {
      "cell_type": "code",
      "metadata": {
        "id": "nwcKNMu2DbxJ",
        "colab_type": "code",
        "colab": {
          "base_uri": "https://localhost:8080/",
          "height": 35
        },
        "outputId": "34dc1335-932f-486c-eebb-8787e2a14314"
      },
      "source": [
        "#Resize y into (0,1)\n",
        "y = df_train[\"Hire_count\"].values/339.0\n",
        "y.shape"
      ],
      "execution_count": 16,
      "outputs": [
        {
          "output_type": "execute_result",
          "data": {
            "text/plain": [
              "(219600,)"
            ]
          },
          "metadata": {
            "tags": []
          },
          "execution_count": 16
        }
      ]
    },
    {
      "cell_type": "markdown",
      "metadata": {
        "id": "f6XLk1txDkP5",
        "colab_type": "text"
      },
      "source": [
        "#Define a DNN"
      ]
    },
    {
      "cell_type": "code",
      "metadata": {
        "id": "5v-akG2HDnEY",
        "colab_type": "code",
        "colab": {}
      },
      "source": [
        "import tensorflow as tf\n",
        "from tensorflow import keras\n",
        "from tensorflow.keras.models import Sequential\n",
        "from tensorflow.keras.layers import Input, Dense, Activation, Dropout"
      ],
      "execution_count": 17,
      "outputs": []
    },
    {
      "cell_type": "code",
      "metadata": {
        "id": "Rszgx4F0Dp7m",
        "colab_type": "code",
        "colab": {}
      },
      "source": [
        "# create and fit a Baseline Neural Network Model\n",
        "model = Sequential()\n",
        "model.add(Dense(32, activation='relu', input_dim=58))\n",
        "model.add(Dense(64, activation='relu'))\n",
        "model.add(Dense(128, activation='relu'))\n",
        "model.add(Dense(256, activation='relu'))\n",
        "model.add(Dense(units=10, activation='softmax'))\n",
        "model.add(Dropout(0.1))\n",
        "model.add(Dense(1))"
      ],
      "execution_count": 18,
      "outputs": []
    },
    {
      "cell_type": "markdown",
      "metadata": {
        "id": "1Y17f71gGAfZ",
        "colab_type": "text"
      },
      "source": [
        "#Compile and Train the model"
      ]
    },
    {
      "cell_type": "code",
      "metadata": {
        "id": "JfbhJj-hGE0h",
        "colab_type": "code",
        "colab": {
          "base_uri": "https://localhost:8080/",
          "height": 1000
        },
        "outputId": "e366f973-4271-4e31-a228-27f374df7d1e"
      },
      "source": [
        "model.compile(loss='mse', optimizer='adam')\n",
        "model.fit(X, y, epochs=50, batch_size=1024, verbose=1)"
      ],
      "execution_count": 19,
      "outputs": [
        {
          "output_type": "stream",
          "text": [
            "Epoch 1/50\n",
            "215/215 [==============================] - 2s 11ms/step - loss: 0.0067\n",
            "Epoch 2/50\n",
            "215/215 [==============================] - 2s 11ms/step - loss: 0.0014\n",
            "Epoch 3/50\n",
            "215/215 [==============================] - 2s 10ms/step - loss: 0.0012\n",
            "Epoch 4/50\n",
            "215/215 [==============================] - 2s 11ms/step - loss: 0.0011\n",
            "Epoch 5/50\n",
            "215/215 [==============================] - 2s 11ms/step - loss: 0.0011\n",
            "Epoch 6/50\n",
            "215/215 [==============================] - 2s 11ms/step - loss: 0.0010\n",
            "Epoch 7/50\n",
            "215/215 [==============================] - 2s 11ms/step - loss: 0.0010\n",
            "Epoch 8/50\n",
            "215/215 [==============================] - 2s 11ms/step - loss: 9.7709e-04\n",
            "Epoch 9/50\n",
            "215/215 [==============================] - 2s 10ms/step - loss: 9.7770e-04\n",
            "Epoch 10/50\n",
            "215/215 [==============================] - 2s 11ms/step - loss: 9.8302e-04\n",
            "Epoch 11/50\n",
            "215/215 [==============================] - 2s 11ms/step - loss: 9.6851e-04\n",
            "Epoch 12/50\n",
            "215/215 [==============================] - 2s 11ms/step - loss: 9.6314e-04\n",
            "Epoch 13/50\n",
            "215/215 [==============================] - 2s 11ms/step - loss: 9.7111e-04\n",
            "Epoch 14/50\n",
            "215/215 [==============================] - 2s 11ms/step - loss: 9.5329e-04\n",
            "Epoch 15/50\n",
            "215/215 [==============================] - 2s 11ms/step - loss: 9.5876e-04\n",
            "Epoch 16/50\n",
            "215/215 [==============================] - 2s 11ms/step - loss: 9.6083e-04\n",
            "Epoch 17/50\n",
            "215/215 [==============================] - 2s 11ms/step - loss: 9.5851e-04\n",
            "Epoch 18/50\n",
            "215/215 [==============================] - 2s 11ms/step - loss: 9.6800e-04\n",
            "Epoch 19/50\n",
            "215/215 [==============================] - 2s 11ms/step - loss: 9.5388e-04\n",
            "Epoch 20/50\n",
            "215/215 [==============================] - 2s 11ms/step - loss: 9.5616e-04\n",
            "Epoch 21/50\n",
            "215/215 [==============================] - 2s 11ms/step - loss: 9.4746e-04\n",
            "Epoch 22/50\n",
            "215/215 [==============================] - 2s 11ms/step - loss: 9.4621e-04\n",
            "Epoch 23/50\n",
            "215/215 [==============================] - 2s 11ms/step - loss: 9.5526e-04\n",
            "Epoch 24/50\n",
            "215/215 [==============================] - 2s 11ms/step - loss: 9.4631e-04\n",
            "Epoch 25/50\n",
            "215/215 [==============================] - 2s 11ms/step - loss: 9.4065e-04\n",
            "Epoch 26/50\n",
            "215/215 [==============================] - 2s 11ms/step - loss: 9.3987e-04\n",
            "Epoch 27/50\n",
            "215/215 [==============================] - 2s 11ms/step - loss: 9.2647e-04\n",
            "Epoch 28/50\n",
            "215/215 [==============================] - 2s 11ms/step - loss: 9.2353e-04\n",
            "Epoch 29/50\n",
            "215/215 [==============================] - 2s 11ms/step - loss: 9.0934e-04\n",
            "Epoch 30/50\n",
            "215/215 [==============================] - 2s 11ms/step - loss: 9.1611e-04\n",
            "Epoch 31/50\n",
            "215/215 [==============================] - 2s 11ms/step - loss: 9.1098e-04\n",
            "Epoch 32/50\n",
            "215/215 [==============================] - 2s 11ms/step - loss: 8.9278e-04\n",
            "Epoch 33/50\n",
            "215/215 [==============================] - 2s 11ms/step - loss: 8.9370e-04\n",
            "Epoch 34/50\n",
            "215/215 [==============================] - 2s 11ms/step - loss: 8.9462e-04\n",
            "Epoch 35/50\n",
            "215/215 [==============================] - 2s 11ms/step - loss: 8.9083e-04\n",
            "Epoch 36/50\n",
            "215/215 [==============================] - 2s 11ms/step - loss: 9.0588e-04\n",
            "Epoch 37/50\n",
            "215/215 [==============================] - 2s 11ms/step - loss: 8.9280e-04\n",
            "Epoch 38/50\n",
            "215/215 [==============================] - 2s 10ms/step - loss: 8.9855e-04\n",
            "Epoch 39/50\n",
            "215/215 [==============================] - 2s 11ms/step - loss: 8.8713e-04\n",
            "Epoch 40/50\n",
            "215/215 [==============================] - 2s 11ms/step - loss: 8.8489e-04\n",
            "Epoch 41/50\n",
            "215/215 [==============================] - 2s 11ms/step - loss: 8.9515e-04\n",
            "Epoch 42/50\n",
            "215/215 [==============================] - 2s 11ms/step - loss: 8.8328e-04\n",
            "Epoch 43/50\n",
            "215/215 [==============================] - 2s 11ms/step - loss: 8.7904e-04\n",
            "Epoch 44/50\n",
            "215/215 [==============================] - 2s 12ms/step - loss: 8.9110e-04\n",
            "Epoch 45/50\n",
            "215/215 [==============================] - 2s 11ms/step - loss: 8.7404e-04\n",
            "Epoch 46/50\n",
            "215/215 [==============================] - 2s 11ms/step - loss: 8.8447e-04\n",
            "Epoch 47/50\n",
            "215/215 [==============================] - 2s 11ms/step - loss: 8.9342e-04\n",
            "Epoch 48/50\n",
            "215/215 [==============================] - 2s 11ms/step - loss: 8.8544e-04\n",
            "Epoch 49/50\n",
            "215/215 [==============================] - 2s 11ms/step - loss: 8.7524e-04\n",
            "Epoch 50/50\n",
            "215/215 [==============================] - 2s 11ms/step - loss: 8.9013e-04\n"
          ],
          "name": "stdout"
        },
        {
          "output_type": "execute_result",
          "data": {
            "text/plain": [
              "<tensorflow.python.keras.callbacks.History at 0x7ff377106d30>"
            ]
          },
          "metadata": {
            "tags": []
          },
          "execution_count": 19
        }
      ]
    },
    {
      "cell_type": "markdown",
      "metadata": {
        "id": "qr7pAKDpGH_1",
        "colab_type": "text"
      },
      "source": [
        "#Do the prediction"
      ]
    },
    {
      "cell_type": "code",
      "metadata": {
        "id": "8_K1jRI2GKPn",
        "colab_type": "code",
        "colab": {
          "base_uri": "https://localhost:8080/",
          "height": 35
        },
        "outputId": "c1265eac-beed-4786-a1da-a09c8bdfd789"
      },
      "source": [
        "df_test = pd.read_csv('test_hire_stats.csv')\n",
        "df_test.shape"
      ],
      "execution_count": 20,
      "outputs": [
        {
          "output_type": "execute_result",
          "data": {
            "text/plain": [
              "(6048, 5)"
            ]
          },
          "metadata": {
            "tags": []
          },
          "execution_count": 20
        }
      ]
    },
    {
      "cell_type": "markdown",
      "metadata": {
        "id": "UhibgeyCGMyM",
        "colab_type": "text"
      },
      "source": [
        "#Convert to weekday"
      ]
    },
    {
      "cell_type": "code",
      "metadata": {
        "id": "zl_-vpfiGO14",
        "colab_type": "code",
        "colab": {}
      },
      "source": [
        "#Declare weekday & workday\n",
        "isworkday2 = np.ones((len(df_test),), dtype=int)\n",
        "weekday2 = np.ones((len(df_test),), dtype=int)"
      ],
      "execution_count": 21,
      "outputs": []
    },
    {
      "cell_type": "code",
      "metadata": {
        "id": "ushkXJZSGQY8",
        "colab_type": "code",
        "colab": {}
      },
      "source": [
        "for index, row in df_test.iterrows():\n",
        "    dd=datetime.strptime(row['Date'], \"%Y-%m-%d\")\n",
        "    weekday2[index]= dd.weekday() \n",
        "    if weekday2[index] >=5:\n",
        "        isworkday2[index] = 0"
      ],
      "execution_count": 22,
      "outputs": []
    },
    {
      "cell_type": "markdown",
      "metadata": {
        "id": "uX65c6nrGSgz",
        "colab_type": "text"
      },
      "source": [
        "#One-hot encoding of test data"
      ]
    },
    {
      "cell_type": "code",
      "metadata": {
        "id": "djPzGfBZGWRp",
        "colab_type": "code",
        "colab": {}
      },
      "source": [
        "Test = pd.DataFrame(df_test[[\"Zone_ID\", \"Hour_slot\"]])\n",
        "Test['isworkday'] = isworkday2\n",
        "Test['weekday'] = weekday2"
      ],
      "execution_count": 23,
      "outputs": []
    },
    {
      "cell_type": "code",
      "metadata": {
        "id": "CHQJaE9TGYGP",
        "colab_type": "code",
        "colab": {
          "base_uri": "https://localhost:8080/",
          "height": 35
        },
        "outputId": "e971d629-57af-44e4-dc78-78a2ba9fd040"
      },
      "source": [
        "Xtest = enc.transform(Test).toarray()\n",
        "Xtest.shape"
      ],
      "execution_count": 24,
      "outputs": [
        {
          "output_type": "execute_result",
          "data": {
            "text/plain": [
              "(6048, 58)"
            ]
          },
          "metadata": {
            "tags": []
          },
          "execution_count": 24
        }
      ]
    },
    {
      "cell_type": "markdown",
      "metadata": {
        "id": "-9yOB0krGaul",
        "colab_type": "text"
      },
      "source": [
        "#Do prediction"
      ]
    },
    {
      "cell_type": "code",
      "metadata": {
        "id": "N96BZCbTGg5E",
        "colab_type": "code",
        "colab": {}
      },
      "source": [
        "yt = model.predict(Xtest)*339.0"
      ],
      "execution_count": 25,
      "outputs": []
    },
    {
      "cell_type": "markdown",
      "metadata": {
        "id": "qCqy51AJGiDL",
        "colab_type": "text"
      },
      "source": [
        "#Output Result"
      ]
    },
    {
      "cell_type": "code",
      "metadata": {
        "id": "e396rtHgGlfd",
        "colab_type": "code",
        "colab": {
          "base_uri": "https://localhost:8080/",
          "height": 283
        },
        "outputId": "adbd4944-08fb-4d8e-c229-135eea5866fa"
      },
      "source": [
        "plt.plot(yt)"
      ],
      "execution_count": 26,
      "outputs": [
        {
          "output_type": "execute_result",
          "data": {
            "text/plain": [
              "[<matplotlib.lines.Line2D at 0x7ff36e39a2b0>]"
            ]
          },
          "metadata": {
            "tags": []
          },
          "execution_count": 26
        },
        {
          "output_type": "display_data",
          "data": {
            "image/png": "[encoded data removed]",
            "text/plain": [
              "<Figure size 432x288 with 1 Axes>"
            ]
          },
          "metadata": {
            "tags": [],
            "needs_background": "light"
          }
        }
      ]
    },
    {
      "cell_type": "code",
      "metadata": {
        "id": "ZXhedEsmGmro",
        "colab_type": "code",
        "colab": {}
      },
      "source": [
        "dfOut = pd.DataFrame(df_test)"
      ],
      "execution_count": 27,
      "outputs": []
    },
    {
      "cell_type": "code",
      "metadata": {
        "id": "LFeRvzjjGoeo",
        "colab_type": "code",
        "colab": {}
      },
      "source": [
        "for i in range(len(yt)):\n",
        "  if yt[i] < 0.0:\n",
        "    yt[i] = 0.0"
      ],
      "execution_count": 28,
      "outputs": []
    },
    {
      "cell_type": "code",
      "metadata": {
        "id": "2Nf2t_cdGp-a",
        "colab_type": "code",
        "colab": {}
      },
      "source": [
        "dfOut['Hire_count'] = yt"
      ],
      "execution_count": 29,
      "outputs": []
    },
    {
      "cell_type": "code",
      "metadata": {
        "id": "6FAbGpJHGtNz",
        "colab_type": "code",
        "colab": {
          "base_uri": "https://localhost:8080/",
          "height": 206
        },
        "outputId": "cc901dea-e1d8-4088-fb06-c1bf0b69295d"
      },
      "source": [
        "dfOut.head()"
      ],
      "execution_count": 30,
      "outputs": [
        {
          "output_type": "execute_result",
          "data": {
            "text/html": [
              "<div>\n",
              "<style scoped>\n",
              "    .dataframe tbody tr th:only-of-type {\n",
              "        vertical-align: middle;\n",
              "    }\n",
              "\n",
              "    .dataframe tbody tr th {\n",
              "        vertical-align: top;\n",
              "    }\n",
              "\n",
              "    .dataframe thead th {\n",
              "        text-align: right;\n",
              "    }\n",
              "</style>\n",
              "<table border=\"1\" class=\"dataframe\">\n",
              "  <thead>\n",
              "    <tr style=\"text-align: right;\">\n",
              "      <th></th>\n",
              "      <th>Test_ID</th>\n",
              "      <th>Zone_ID</th>\n",
              "      <th>Date</th>\n",
              "      <th>Hour_slot</th>\n",
              "      <th>Hire_count</th>\n",
              "    </tr>\n",
              "  </thead>\n",
              "  <tbody>\n",
              "    <tr>\n",
              "      <th>0</th>\n",
              "      <td>0</td>\n",
              "      <td>7</td>\n",
              "      <td>2017-02-01</td>\n",
              "      <td>0</td>\n",
              "      <td>0.309116</td>\n",
              "    </tr>\n",
              "    <tr>\n",
              "      <th>1</th>\n",
              "      <td>1</td>\n",
              "      <td>7</td>\n",
              "      <td>2017-02-01</td>\n",
              "      <td>1</td>\n",
              "      <td>0.441233</td>\n",
              "    </tr>\n",
              "    <tr>\n",
              "      <th>2</th>\n",
              "      <td>2</td>\n",
              "      <td>7</td>\n",
              "      <td>2017-02-01</td>\n",
              "      <td>2</td>\n",
              "      <td>0.360073</td>\n",
              "    </tr>\n",
              "    <tr>\n",
              "      <th>3</th>\n",
              "      <td>3</td>\n",
              "      <td>7</td>\n",
              "      <td>2017-02-01</td>\n",
              "      <td>3</td>\n",
              "      <td>0.115798</td>\n",
              "    </tr>\n",
              "    <tr>\n",
              "      <th>4</th>\n",
              "      <td>4</td>\n",
              "      <td>7</td>\n",
              "      <td>2017-02-01</td>\n",
              "      <td>4</td>\n",
              "      <td>0.309803</td>\n",
              "    </tr>\n",
              "  </tbody>\n",
              "</table>\n",
              "</div>"
            ],
            "text/plain": [
              "   Test_ID  Zone_ID        Date  Hour_slot  Hire_count\n",
              "0        0        7  2017-02-01          0    0.309116\n",
              "1        1        7  2017-02-01          1    0.441233\n",
              "2        2        7  2017-02-01          2    0.360073\n",
              "3        3        7  2017-02-01          3    0.115798\n",
              "4        4        7  2017-02-01          4    0.309803"
            ]
          },
          "metadata": {
            "tags": []
          },
          "execution_count": 30
        }
      ]
    },
    {
      "cell_type": "code",
      "metadata": {
        "id": "SPidhl6CGul0",
        "colab_type": "code",
        "colab": {}
      },
      "source": [
        "dfOut.to_csv('trialn9.csv', index=False)"
      ],
      "execution_count": 31,
      "outputs": []
    }
  ]
}